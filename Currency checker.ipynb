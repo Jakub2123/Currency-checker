{
 "cells": [
  {
   "cell_type": "code",
   "execution_count": 3,
   "id": "73a71cdd",
   "metadata": {},
   "outputs": [],
   "source": [
    "from ipywidgets import interact, interactive, fixed, interact_manual\n",
    "import ipywidgets as widgets\n",
    "from requests import get"
   ]
  },
  {
   "cell_type": "code",
   "execution_count": 4,
   "id": "1b066a8f",
   "metadata": {},
   "outputs": [],
   "source": [
    "DP=    widgets.DatePicker(\n",
    "        description='Pick a Date',\n",
    "        disabled=False\n",
    ")\n",
    "\n",
    "\n",
    "\n",
    "CU=widgets.Select(\n",
    "    options=['USD', 'EUR', 'PLN'],\n",
    "    value='EUR',\n",
    "    # rows=10,\n",
    "    description='Currency:',\n",
    "    disabled=False\n",
    ")"
   ]
  },
  {
   "cell_type": "code",
   "execution_count": 5,
   "id": "f07a9bcf",
   "metadata": {},
   "outputs": [
    {
     "data": {
      "application/vnd.jupyter.widget-view+json": {
       "model_id": "fcfd233cf9de4bf48721a8bcc629e3d6",
       "version_major": 2,
       "version_minor": 0
      },
      "text/plain": [
       "DatePicker(value=None, description='Pick a Date')"
      ]
     },
     "metadata": {},
     "output_type": "display_data"
    }
   ],
   "source": [
    "DP\n"
   ]
  },
  {
   "cell_type": "code",
   "execution_count": 6,
   "id": "e0601b59",
   "metadata": {},
   "outputs": [
    {
     "data": {
      "application/vnd.jupyter.widget-view+json": {
       "model_id": "d78765d01d944c919e0e39108889355e",
       "version_major": 2,
       "version_minor": 0
      },
      "text/plain": [
       "Select(description='Currency:', index=1, options=('USD', 'EUR', 'PLN'), value='EUR')"
      ]
     },
     "metadata": {},
     "output_type": "display_data"
    }
   ],
   "source": [
    "CU"
   ]
  },
  {
   "cell_type": "code",
   "execution_count": 7,
   "id": "9eefd4ce",
   "metadata": {},
   "outputs": [],
   "source": [
    "\n",
    "date=DP.value\n",
    "date.strftime('%d-%m-%Y')\n",
    "curr=CU.value"
   ]
  },
  {
   "cell_type": "code",
   "execution_count": 8,
   "id": "416e2e9b",
   "metadata": {},
   "outputs": [
    {
     "data": {
      "text/plain": [
       "'13-09-2022'"
      ]
     },
     "execution_count": 8,
     "metadata": {},
     "output_type": "execute_result"
    }
   ],
   "source": [
    "date.strftime('%d-%m-%Y')"
   ]
  },
  {
   "cell_type": "code",
   "execution_count": 28,
   "id": "745a5970",
   "metadata": {},
   "outputs": [
    {
     "name": "stdout",
     "output_type": "stream",
     "text": [
      "1 USD = 4.6363 PLN w dniu 2022-09-13\n"
     ]
    }
   ],
   "source": [
    "url = f'http://api.nbp.pl/api/exchangerates/rates/a/{curr}/{date}/'\n",
    "\n",
    "resp = get(url)\n",
    "data = resp.json()\n",
    "\n",
    "#print(data)\n",
    "\n",
    "rates=data['rates']\n",
    "first_rate=rates[0]\n",
    "exchange_rate = first_rate['mid']\n",
    "\n",
    "print(f'1 {curr} = {exchange_rate} PLN w dniu {date}')"
   ]
  },
  {
   "cell_type": "code",
   "execution_count": null,
   "id": "18ccc68a",
   "metadata": {},
   "outputs": [],
   "source": []
  }
 ],
 "metadata": {
  "kernelspec": {
   "display_name": "Python 3 (ipykernel)",
   "language": "python",
   "name": "python3"
  },
  "language_info": {
   "codemirror_mode": {
    "name": "ipython",
    "version": 3
   },
   "file_extension": ".py",
   "mimetype": "text/x-python",
   "name": "python",
   "nbconvert_exporter": "python",
   "pygments_lexer": "ipython3",
   "version": "3.9.12"
  }
 },
 "nbformat": 4,
 "nbformat_minor": 5
}
